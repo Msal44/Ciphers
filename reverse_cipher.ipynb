{
  "nbformat": 4,
  "nbformat_minor": 0,
  "metadata": {
    "colab": {
      "name": "reverse_cipher.ipynb",
      "provenance": [],
      "authorship_tag": "ABX9TyP9bm5QFduB6JrHGOTuuc0r",
      "include_colab_link": true
    },
    "kernelspec": {
      "name": "python3",
      "display_name": "Python 3"
    },
    "language_info": {
      "name": "python"
    }
  },
  "cells": [
    {
      "cell_type": "markdown",
      "metadata": {
        "id": "view-in-github",
        "colab_type": "text"
      },
      "source": [
        "<a href=\"https://colab.research.google.com/github/Msal44/Ciphers/blob/main/reverse_cipher.ipynb\" target=\"_parent\"><img src=\"https://colab.research.google.com/assets/colab-badge.svg\" alt=\"Open In Colab\"/></a>"
      ]
    },
    {
      "cell_type": "markdown",
      "source": [
        "Reverse Cipher\n",
        "\n",
        "Reverse Cipher uses a pattern of reversing the string of plain text to convert as cipher text.\n",
        "\n",
        "The process of encryption and decryption is same.\n",
        "\n",
        "To decrypt cipher text, the user simply needs to reverse the cipher text to get the plain text.\n",
        "\n",
        "The drawback is that it is very weak. A hacker can easily break a cipher and turn it into it's original text."
      ],
      "metadata": {
        "id": "f9rOPFfAZPiC"
      }
    },
    {
      "cell_type": "code",
      "source": [
        "message = \"This is a seceret message\"\n",
        "\n",
        "translated = '' #the cipher text will be stored in this variable\n",
        "\n",
        "reversed_message = len(message) - 1\n",
        "\n",
        "#the while loop will loop through the message (each character)\n",
        "while reversed_message >= 0:\n",
        "  #moves message to translated and reverses it\n",
        "  translated = translated + message[reversed_message]\n",
        "  reversed_message -= 1\n",
        "print(\"The Reverse Cipher text is: \", translated)"
      ],
      "metadata": {
        "colab": {
          "base_uri": "https://localhost:8080/"
        },
        "id": "BxlLi_cdZphS",
        "outputId": "1d7f9b1f-33a4-4bc6-acbd-7e07cea6d047"
      },
      "execution_count": 5,
      "outputs": [
        {
          "output_type": "stream",
          "name": "stdout",
          "text": [
            "The Reverse Cipher text is:  egassem tereces a si sihT\n"
          ]
        }
      ]
    }
  ]
}