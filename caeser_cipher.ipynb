{
  "nbformat": 4,
  "nbformat_minor": 0,
  "metadata": {
    "colab": {
      "name": "caeser_cipher.ipynb",
      "provenance": [],
      "collapsed_sections": [],
      "authorship_tag": "ABX9TyNdhW4KxHpIvsqaONrdKA6l",
      "include_colab_link": true
    },
    "kernelspec": {
      "name": "python3",
      "display_name": "Python 3"
    },
    "language_info": {
      "name": "python"
    }
  },
  "cells": [
    {
      "cell_type": "markdown",
      "metadata": {
        "id": "view-in-github",
        "colab_type": "text"
      },
      "source": [
        "<a href=\"https://colab.research.google.com/github/Msal44/Ciphers/blob/main/caeser_cipher.ipynb\" target=\"_parent\"><img src=\"https://colab.research.google.com/assets/colab-badge.svg\" alt=\"Open In Colab\"/></a>"
      ]
    },
    {
      "cell_type": "markdown",
      "source": [
        "Caeser Cipher\n",
        "\n",
        "Imagine Karl and Sarah wanted to comunnicate using the caeser cipher\n",
        "\n",
        "The message they want to communicate states, \"Meet me at the willow tree\".\n",
        "\n",
        "Next the they agree in advanced on a shift to use. Lets say the agreed to shift each character by three.\n",
        "\n",
        "The message the becomes:\n",
        "\"phhw ph dw wkh zloorz wuhh\"\n",
        "\n",
        "So, each character is shifted by three. M becomes P, E becomes H, and so on.\n",
        "\n",
        "Julies Caeser used to do this around 58 B.C.\n"
      ],
      "metadata": {
        "id": "60O_UJZqfXD6"
      }
    },
    {
      "cell_type": "code",
      "source": [
        "'''\n",
        "The encrypt character helper function will encryoter a single character \n",
        "and it has a key. The encrypt function allows us to do the caeser sipher process\n",
        "\n",
        "The chr(0 function, when printed, return the character of a number).\n",
        "So, char(97) returns the value A.\n",
        "\n",
        "The ord() function return the Unicode (unique number for  given character).\n",
        "So ord('A'), when printed, returns the value 97. The key will represent the\n",
        "shift. \n",
        "\n",
        "'''\n",
        "def encrypt_character(char, key):\n",
        "    return chr(ord('A') + (ord(char) - ord('A') + key) % 26)\n",
        "\n",
        "def encrypt_message(message, key):\n",
        "   #have upper case in message\n",
        "    message = message.upper()\n",
        "    #characters will be placed in the variable cipher\n",
        "    cipher = ''\n",
        "    #loop through and encrypt upper and lower case characters\n",
        "    for char in message:\n",
        "        if char not in ' ,.':\n",
        "            cipher += encrypt_character(char, key)\n",
        "        else:\n",
        "            cipher += char\n",
        "    return cipher\n",
        "\n",
        "encrypt_message(\"Meet me at the willow tree\", 3)"
      ],
      "metadata": {
        "colab": {
          "base_uri": "https://localhost:8080/",
          "height": 36
        },
        "id": "NhpucN3TktGB",
        "outputId": "8278b702-bbe1-4de2-bb10-96267a316e7f"
      },
      "execution_count": 28,
      "outputs": [
        {
          "output_type": "execute_result",
          "data": {
            "text/plain": [
              "'PHHW PH DW WKH ZLOORZ WUHH'"
            ],
            "application/vnd.google.colaboratory.intrinsic+json": {
              "type": "string"
            }
          },
          "metadata": {},
          "execution_count": 28
        }
      ]
    },
    {
      "cell_type": "code",
      "source": [
        "#Basically in the encrypt function this is how we encrypt the character.\n",
        "value = chr(77 + (77 - 97 + 3) % 26)\n",
        "\n",
        "print(value)\n"
      ],
      "metadata": {
        "colab": {
          "base_uri": "https://localhost:8080/"
        },
        "id": "mynopWZ6nfiI",
        "outputId": "1eaaf1e3-8f69-468e-c396-007f0594436c"
      },
      "execution_count": 26,
      "outputs": [
        {
          "output_type": "stream",
          "name": "stdout",
          "text": [
            "V\n"
          ]
        }
      ]
    },
    {
      "cell_type": "code",
      "source": [
        "#To decrypt the message.\n",
        "\n",
        "def encrypt_character(char, key):\n",
        "    return chr(ord('A') + (ord(char) - ord('A') + 26 - key) % 26) #this changed\n",
        "\n",
        "def encrypt_message(message, key):\n",
        "    #have upper case in message\n",
        "    message = message.upper()\n",
        "    #characters will be placed in the variable cupher\n",
        "    cipher = ''\n",
        "\n",
        "    #loop through and decrypt both upper and lowercase letters\n",
        "    for char in message:\n",
        "        if char not in ' ,.':\n",
        "            cipher += encrypt_character(char, key)\n",
        "        else:\n",
        "            cipher += char\n",
        "    return cipher\n",
        "\n",
        "encrypt_message(\"PHHW PH DW WKH ZLOORZ WUHH\", 3)"
      ],
      "metadata": {
        "colab": {
          "base_uri": "https://localhost:8080/",
          "height": 36
        },
        "id": "jUcDCGRAn38u",
        "outputId": "16fb90bd-fdcc-4875-b03a-1f775d3f3745"
      },
      "execution_count": 29,
      "outputs": [
        {
          "output_type": "execute_result",
          "data": {
            "text/plain": [
              "'MEET ME AT THE WILLOW TREE'"
            ],
            "application/vnd.google.colaboratory.intrinsic+json": {
              "type": "string"
            }
          },
          "metadata": {},
          "execution_count": 29
        }
      ]
    }
  ]
}